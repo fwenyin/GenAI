{
 "cells": [
  {
   "cell_type": "code",
   "execution_count": 10,
   "metadata": {},
   "outputs": [],
   "source": [
    "import pandas as pd\n",
    "import os"
   ]
  },
  {
   "cell_type": "code",
   "execution_count": 13,
   "metadata": {},
   "outputs": [],
   "source": [
    "def clean_data(raw_file_path, cleaned_file_path):\n",
    "    # Load the CSV file into a DataFrame\n",
    "    df = pd.read_csv(raw_file_path)\n",
    "\n",
    "    # Step 1: Remove redundant columns\n",
    "    redundant_columns = ['ID_long', 'ID_short2', 'wf_COVID_MY']\n",
    "    df.drop(columns=redundant_columns, inplace=True, errors='ignore')\n",
    "\n",
    "    # Step 2: Impute null for constant values\n",
    "    constant_values = ['8888', '7777', '9999', 8888, 7777, 9999]\n",
    "    df.replace(constant_values, None, inplace=True)\n",
    "\n",
    "    # Step 3: Remove columns that are predominantly null (>80% null values)\n",
    "    threshold = len(df) * 0.9\n",
    "    df.dropna(thresh=threshold, axis=1, inplace=True)\n",
    "\n",
    "    # Step 4: Remove rows that are completely empty (i.e., all values are NaN)\n",
    "    df.dropna(how='all', inplace=True)\n",
    "\n",
    "    # Step 5: Imputing country name\n",
    "\n",
    "\n",
    "    # Step 6: Rename columns to ensure LLM readability\n",
    "\n",
    "\n",
    "    df.to_csv(cleaned_file_path, index=False)"
   ]
  },
  {
   "cell_type": "code",
   "execution_count": 14,
   "metadata": {},
   "outputs": [
    {
     "name": "stdout",
     "output_type": "stream",
     "text": [
      "Cleaned data saved to cleaned_data\\SEANUTS II ALL - 20230526 Common Variables.csv\n",
      "Cleaned data saved to cleaned_data\\SEANUTS II ALL - 20230621 Anthro.csv\n",
      "Cleaned data saved to cleaned_data\\SEANUTS II ALL - 20231101 BV_SR1.csv\n",
      "Cleaned data saved to cleaned_data\\SEANUTS II ALL - 20231128 Nutrients per Subject.csv\n"
     ]
    }
   ],
   "source": [
    "def batch_clean_data(raw_data_folder, cleaned_data_folder):\n",
    "    # Ensure the cleaned data folder exists\n",
    "    if not os.path.exists(cleaned_data_folder):\n",
    "        os.makedirs(cleaned_data_folder)\n",
    "\n",
    "    # Loop through all the CSV files in the raw data folder\n",
    "    for filename in os.listdir(raw_data_folder):\n",
    "        if filename.endswith('.csv'):\n",
    "            # Full path for raw and cleaned data files\n",
    "            raw_file_path = os.path.join(raw_data_folder, filename)\n",
    "            cleaned_file_path = os.path.join(cleaned_data_folder, filename)\n",
    "\n",
    "            # Clean the data and save to the cleaned data folder\n",
    "            clean_data(raw_file_path, cleaned_file_path)\n",
    "            print(f\"Cleaned data saved to {cleaned_file_path}\")\n",
    "\n",
    "\n",
    "batch_clean_data('raw_data', 'cleaned_data')"
   ]
  }
 ],
 "metadata": {
  "kernelspec": {
   "display_name": "venv",
   "language": "python",
   "name": "python3"
  },
  "language_info": {
   "codemirror_mode": {
    "name": "ipython",
    "version": 3
   },
   "file_extension": ".py",
   "mimetype": "text/x-python",
   "name": "python",
   "nbconvert_exporter": "python",
   "pygments_lexer": "ipython3",
   "version": "3.12.1"
  }
 },
 "nbformat": 4,
 "nbformat_minor": 2
}
