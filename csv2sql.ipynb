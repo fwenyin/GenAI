{
 "cells": [
  {
   "cell_type": "code",
   "execution_count": 28,
   "metadata": {},
   "outputs": [],
   "source": [
    "import pandas as pd\n",
    "import sqlalchemy\n",
    "from dotenv import load_dotenv\n",
    "import os\n",
    "\n",
    "load_dotenv()\n",
    "\n",
    "USERNAME = os.getenv('DB_USERNAME')\n",
    "PASSWORD = os.getenv('DB_PASSWORD')\n",
    "HOSTNAME = os.getenv('DB_HOSTNAME')\n",
    "PORT = os.getenv('DB_PORT')\n",
    "DATABASE = os.getenv('DB_DATABASE')"
   ]
  },
  {
   "cell_type": "code",
   "execution_count": 29,
   "metadata": {},
   "outputs": [],
   "source": [
    "# Connect to your MySQL database\n",
    "engine = sqlalchemy.create_engine(f\"mysql://{USERNAME}:{PASSWORD}@{HOSTNAME}:{PORT}/{DATABASE}\")"
   ]
  },
  {
   "cell_type": "code",
   "execution_count": 31,
   "metadata": {},
   "outputs": [
    {
     "name": "stderr",
     "output_type": "stream",
     "text": [
      "C:\\Users\\FunW01\\AppData\\Local\\Temp\\ipykernel_16124\\1211242449.py:3: UserWarning: The provided table name 'Anthro' is not found exactly as such in the database after writing the table, possibly due to case sensitivity issues. Consider using lower case table names.\n",
      "  df.to_sql('Anthro', con=engine, if_exists='replace', index=False)\n",
      "C:\\Users\\FunW01\\AppData\\Local\\Temp\\ipykernel_16124\\1211242449.py:6: UserWarning: The provided table name 'CommonVariables' is not found exactly as such in the database after writing the table, possibly due to case sensitivity issues. Consider using lower case table names.\n",
      "  df.to_sql('CommonVariables', con=engine, if_exists='replace', index=False)\n",
      "C:\\Users\\FunW01\\AppData\\Local\\Temp\\ipykernel_16124\\1211242449.py:9: UserWarning: The provided table name 'BloodValue' is not found exactly as such in the database after writing the table, possibly due to case sensitivity issues. Consider using lower case table names.\n",
      "  df.to_sql('BloodValue', con=engine, if_exists='replace', index=False)\n",
      "C:\\Users\\FunW01\\AppData\\Local\\Temp\\ipykernel_16124\\1211242449.py:12: UserWarning: The provided table name 'Nutrients' is not found exactly as such in the database after writing the table, possibly due to case sensitivity issues. Consider using lower case table names.\n",
      "  df.to_sql('Nutrients', con=engine, if_exists='replace', index=False)\n"
     ]
    },
    {
     "data": {
      "text/plain": [
       "13933"
      ]
     },
     "execution_count": 31,
     "metadata": {},
     "output_type": "execute_result"
    }
   ],
   "source": [
    "# Read the CSV file, infer data types and create the table in MySQL\n",
    "df = pd.read_csv('cleaned_data/SEANUTS II ALL - 20230621 Anthro.csv')\n",
    "df.to_sql('Anthro', con=engine, if_exists='replace', index=False)\n",
    "\n",
    "df = pd.read_csv('cleaned_data/SEANUTS II ALL - 20230526 Common Variables.csv')\n",
    "df.to_sql('CommonVariables', con=engine, if_exists='replace', index=False)\n",
    "\n",
    "df = pd.read_csv('cleaned_data/SEANUTS II ALL - 20231101 BV_SR1.csv')\n",
    "df.to_sql('BloodValue', con=engine, if_exists='replace', index=False)\n",
    "\n",
    "df = pd.read_csv('cleaned_data/SEANUTS II ALL - 20231128 Nutrients per Subject.csv')\n",
    "df.to_sql('Nutrients', con=engine, if_exists='replace', index=False)"
   ]
  }
 ],
 "metadata": {
  "kernelspec": {
   "display_name": "venv",
   "language": "python",
   "name": "python3"
  },
  "language_info": {
   "codemirror_mode": {
    "name": "ipython",
    "version": 3
   },
   "file_extension": ".py",
   "mimetype": "text/x-python",
   "name": "python",
   "nbconvert_exporter": "python",
   "pygments_lexer": "ipython3",
   "version": "3.12.1"
  }
 },
 "nbformat": 4,
 "nbformat_minor": 2
}
